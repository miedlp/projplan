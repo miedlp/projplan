{
 "cells": [
  {
   "cell_type": "markdown",
   "metadata": {},
   "source": [
    "This jupyter notebook can be used to generate roadmap plots based on a given MRD. Place the MRD files in a subdirectory with the year, e.g. 2023, and then call it from this notebook.\n",
    "\n",
    "Before changing this notebook, make sure the last working version is archived by executing the command ```jupyter nbconvert roadmap.ipynb --to html``` and moving the resulting html-file to the MRD-directory."
   ]
  },
  {
   "attachments": {},
   "cell_type": "markdown",
   "metadata": {},
   "source": [
    "# Imports and basic types\n",
    "Import all necessary packets and establish the basic types/classes used in this scipt. This is not relevant for the end user. To parametrize the script, please move on to the next section."
   ]
  },
  {
   "cell_type": "code",
   "execution_count": null,
   "metadata": {},
   "outputs": [],
   "source": [
    "import sys\n",
    "import numpy as np\n",
    "import pandas as pd\n",
    "\n",
    "import datetime as dt\n",
    "import os\n",
    "import pathlib as pl\n",
    "\n",
    "from matplotlib import pyplot as plt\n",
    "from matplotlib import cm"
   ]
  },
  {
   "cell_type": "code",
   "execution_count": null,
   "metadata": {},
   "outputs": [],
   "source": [
    "PACKAGE_ROOT = str(pl.Path(os.getcwd()).parent.parent)\n",
    "if PACKAGE_ROOT not in sys.path:\n",
    "    sys.path.append(PACKAGE_ROOT)\n",
    "    \n",
    "from projplan.focusareas import FocusAreas\n",
    "from projplan.scenario import Scenario\n",
    "from projplan.mrdplotting import MRDPlot\n",
    "\n",
    "from projplan.helper import TimelineConstraints as TCS"
   ]
  },
  {
   "cell_type": "markdown",
   "metadata": {},
   "source": [
    "# Configuration"
   ]
  },
  {
   "cell_type": "markdown",
   "metadata": {},
   "source": [
    "Focus areas, i.e. the different task-groups the SW-ES team has to cover."
   ]
  },
  {
   "cell_type": "code",
   "execution_count": null,
   "metadata": {},
   "outputs": [],
   "source": [
    "FAs = {\n",
    "        'admin':    FocusAreas('Admin',                                   1.00, False, '#dadada'), #gray\n",
    "        'cusproj':  FocusAreas('Customer Project',                        1.50, False, '#009cdd'), #cyan\n",
    "        'cussupp':  FocusAreas('Customer Support',                        0.50, False, '#28cfd7'), #cyan-green\n",
    "        'overhead': FocusAreas('Project Overhead (Releasing etc.)',       1.00, False, '#6a8795'), #???\n",
    "        'proj1':    FocusAreas('Proj1',                                   0.50, True,  '#004494'), #blue\n",
    "        'proj2':    FocusAreas('Proj2',                                   0.50, True,  '#6ab023'), #green\n",
    "}"
   ]
  },
  {
   "cell_type": "markdown",
   "metadata": {},
   "source": [
    "MRD"
   ]
  },
  {
   "cell_type": "code",
   "execution_count": null,
   "metadata": {},
   "outputs": [],
   "source": [
    "TIMELINE_START = '2024-01-01'\n",
    "TIMELINE_END = '2045-12-31'\n",
    "MRD_FILE = 'mrd.csv'"
   ]
  },
  {
   "attachments": {},
   "cell_type": "markdown",
   "metadata": {},
   "source": [
    "Plotting functions"
   ]
  },
  {
   "cell_type": "code",
   "execution_count": null,
   "metadata": {},
   "outputs": [],
   "source": [
    "figureDir = pl.Path(os.getcwd()).joinpath('figures')\n",
    "timelineEnd = dt.datetime(year=2029, month=12, day=31)\n",
    "ylabelpos = -140\n",
    "plotwidth = 20\n",
    "plotheight = 5\n",
    "tickMajorFreq = '2QE'\n",
    "tickMinorFreq = 'QE'\n",
    "legendOutside=True\n",
    "boxaxespad=6\n",
    "bbox_to_anchor=(0,1.3)\n",
    "priorityLabels = ['', 'Basic Infrastructure', 'Basic Functionality', 'Basic Device', 'Advanced Device', 'Super Features']"
   ]
  },
  {
   "attachments": {},
   "cell_type": "markdown",
   "metadata": {},
   "source": [
    "# Roadmap plots"
   ]
  },
  {
   "attachments": {},
   "cell_type": "markdown",
   "metadata": {},
   "source": [
    "## Probable case"
   ]
  },
  {
   "cell_type": "code",
   "execution_count": null,
   "metadata": {},
   "outputs": [],
   "source": [
    "scoBase05 = Scenario(\n",
    "    name            = 'Base 0.5FTE',\n",
    "    ftes            = 10,\n",
    "    focusareas      = [fa for fa in FAs.values()],\n",
    "    timelineStart   = TIMELINE_START,\n",
    "    timelineEnd     = TIMELINE_END,\n",
    "    mrdpath         = MRD_FILE,\n",
    ")\n",
    "scoBase05.workPerTask = 0.75\n",
    "scoBase05.workDistribution = { \n",
    "                    'Proj1':            TCS([(dt.datetime(year=2029, month=1, day=1),None,0)]),\n",
    "                    'Proj2':            TCS([\n",
    "                                             (dt.datetime(year=2024, month=1, day=1),dt.datetime(year=2024, month=12, day=31),0.5),\n",
    "                                             (dt.datetime(year=2025, month=1, day=1),dt.datetime(year=2025, month=12, day=31),1.0),\n",
    "                                             (dt.datetime(year=2026, month=1, day=1),dt.datetime(year=2026, month=12, day=31),1.5),\n",
    "                                             (dt.datetime(year=2027, month=1, day=1),dt.datetime(year=2027, month=12, day=31),2.0),\n",
    "                                             (dt.datetime(year=2028, month=1, day=1),dt.datetime(year=2028, month=12, day=31),2.5),\n",
    "                                           ])\n",
    "                   }\n",
    "scoBase05.scheduleTasks({idx: 'Proj2' for idx in scoBase05.timeline})\n",
    "scoBase05Plot = MRDPlot(figureDir, [scoBase05])\n",
    "scoBase05Plot.plot(  projectList=[platform for platform in scoBase05.platformFAs if platform.name in ['Proj2']]\n",
    "                  , plotwidth=plotwidth, plotheight=plotheight\n",
    "                  , legendOutside=legendOutside\n",
    "                  , boxaxespad=boxaxespad, bbox_to_anchor=bbox_to_anchor\n",
    "                  , tickMajorFreq=tickMajorFreq, tickMinorFreq=tickMinorFreq\n",
    "                  , ylabelpos=ylabelpos, timelineEnd=timelineEnd\n",
    "                  , priorityLabels=priorityLabels)\n",
    "scoBase05Plot.save()"
   ]
  },
  {
   "cell_type": "code",
   "execution_count": null,
   "metadata": {},
   "outputs": [],
   "source": [
    "scoBase20 = Scenario(\n",
    "    name            = 'Base 2.0FTE',\n",
    "    ftes            = 10,\n",
    "    focusareas      = [fa for fa in FAs.values()],\n",
    "    timelineStart   = TIMELINE_START,\n",
    "    timelineEnd     = TIMELINE_END,\n",
    "    mrdpath         = MRD_FILE,\n",
    ")\n",
    "scoBase20.workPerTask = 0.75\n",
    "scoBase20.workDistribution = { \n",
    "                    'Proj1':            TCS([(dt.datetime(year=2026, month=1, day=1),None,0)]),\n",
    "                    'Proj2':            TCS([\n",
    "                                             (dt.datetime(year=2024, month=1, day=1),dt.datetime(year=2024, month=12, day=31),2.0),\n",
    "                                             (dt.datetime(year=2025, month=1, day=1),dt.datetime(year=2025, month=12, day=31),2.5),\n",
    "                                           ])\n",
    "                   }\n",
    "scoBase20.scheduleTasks({idx: 'Proj2' for idx in scoBase20.timeline})\n",
    "scoBase20Plot = MRDPlot(figureDir, [scoBase20])\n",
    "scoBase20Plot.plot(  projectList=[platform for platform in scoBase20.platformFAs if platform.name in ['Proj2']]\n",
    "                  , plotwidth=plotwidth, plotheight=plotheight\n",
    "                  , legendOutside=legendOutside\n",
    "                  , boxaxespad=boxaxespad, bbox_to_anchor=bbox_to_anchor\n",
    "                  , tickMajorFreq=tickMajorFreq, tickMinorFreq=tickMinorFreq\n",
    "                  , ylabelpos=ylabelpos, timelineEnd=timelineEnd\n",
    "                  , priorityLabels=priorityLabels)\n",
    "scoBase20Plot.save()"
   ]
  },
  {
   "cell_type": "code",
   "execution_count": null,
   "metadata": {},
   "outputs": [],
   "source": [
    "stacked = MRDPlot(figureDir, [scoBase05,scoBase20])\n",
    "stacked.name = 'stacked_base'\n",
    "stacked.plot(  projectList=[platform for platform in scoBase05.platformFAs if platform.name in ['Proj2']]\n",
    "             , plotwidth=20, plotheight=4\n",
    "             , legendOutside=False, boxaxespad=boxaxespad, bbox_to_anchor=bbox_to_anchor\n",
    "             , tickMajorFreq=tickMajorFreq, tickMinorFreq=tickMinorFreq\n",
    "             , ylabelpos=ylabelpos, timelineEnd=timelineEnd\n",
    "             , priorityLabels=priorityLabels)\n",
    "stacked.save()"
   ]
  },
  {
   "attachments": {},
   "cell_type": "markdown",
   "metadata": {},
   "source": [
    "## Added resources\n",
    "Temporarily add 2 FTEs for Proj2"
   ]
  },
  {
   "cell_type": "code",
   "execution_count": null,
   "metadata": {},
   "outputs": [],
   "source": [
    "addRes = Scenario(\n",
    "    name            = 'Added Resources',\n",
    "    ftes            = TCS([\n",
    "                            (dt.datetime(year=2024, month=1, day=1),dt.datetime(year=2024, month=6, day=30),10),\n",
    "                            (dt.datetime(year=2024, month=7, day=1),dt.datetime(year=2025, month=12, day=31),12),\n",
    "                            (dt.datetime(year=2026, month=1, day=1),None,10)\n",
    "                          ]),\n",
    "    focusareas      = [fa for fa in FAs.values()],\n",
    "    timelineStart   = TIMELINE_START,\n",
    "    timelineEnd     = TIMELINE_END,\n",
    "    mrdpath         = MRD_FILE,\n",
    ")\n",
    "addRes.workPerTask = 0.75\n",
    "addRes.workDistribution = { \n",
    "                    'Proj1':          TCS([(dt.datetime(year=2027, month=1, day=1),None,0)]),\n",
    "                    'Proj2':    TCS([\n",
    "                                             (dt.datetime(year=2024, month=1, day=1),dt.datetime(year=2024, month=6, day=30),1.5),\n",
    "                                             (dt.datetime(year=2024, month=7, day=1),dt.datetime(year=2024, month=12, day=31),3.5),\n",
    "                                             (dt.datetime(year=2025, month=1, day=1),dt.datetime(year=2025, month=12, day=31),4.0),\n",
    "                                             (dt.datetime(year=2026, month=1, day=1),dt.datetime(year=2026, month=12, day=31),2.5),\n",
    "                                           ])\n",
    "                   }\n",
    "addRes.scheduleTasks({idx: 'Proj2' for idx in addRes.timeline})\n",
    "scoBase2Plot = MRDPlot(figureDir, [addRes])\n",
    "scoBase2Plot.plot( projectList=[platform for platform in addRes.platformFAs if platform.name in ['Proj2']]\n",
    "                 , plotwidth=plotwidth, plotheight=plotheight\n",
    "                 , legendOutside=legendOutside, boxaxespad=boxaxespad, bbox_to_anchor=bbox_to_anchor\n",
    "                 , tickMajorFreq=tickMajorFreq, tickMinorFreq=tickMinorFreq\n",
    "                 , ylabelpos=ylabelpos, timelineEnd=timelineEnd\n",
    "                 , priorityLabels=priorityLabels)\n",
    "scoBase2Plot.save()"
   ]
  },
  {
   "attachments": {},
   "cell_type": "markdown",
   "metadata": {},
   "source": [
    "# Velocity plot\n",
    "\n",
    "### Estimated value curve"
   ]
  },
  {
   "cell_type": "code",
   "execution_count": null,
   "metadata": {},
   "outputs": [],
   "source": [
    "velocityPlotScenario = scoBase05\n",
    "extrapolateMax = 6000\n",
    "finalIntervalLen = extrapolateMax * 0.3\n",
    "transitionSteps = 5\n",
    "\n",
    "def fitPoly(x, y, fitRange, deg=1):\n",
    "    fit = np.polyfit(x, y, deg=deg)\n",
    "    fitRangeList = range(fitRange[0], fitRange[1])\n",
    "    return np.array([fitRangeList, np.poly1d(fit)(fitRangeList)]), fit\n",
    "\n",
    "# Generate Data\n",
    "velocity = {}\n",
    "yOff = {'Proj1': 0, 'Proj2': len(velocityPlotScenario.mrd[velocityPlotScenario.mrd['Proj1-Effort'] == 0].index)}\n",
    "for project in velocityPlotScenario.platformFAs:\n",
    "    xVal = [0] + list(velocityPlotScenario.mrd[velocityPlotScenario.mrd[project.effortColumnName] != 0][project.effortColumnName].cumsum())\n",
    "    yVal = np.array(range(len(xVal))) - yOff[project.name]\n",
    "    velocity[project.name] = np.array([xVal,yVal])\n",
    "\n",
    "extraVel = {}\n",
    "productivity = {'Proj1': -0.5, 'Proj2': 0.4}    # Productivity change\n",
    "phase1Max = max([round(velocity[project.name][0,-1]) for project in velocityPlotScenario.platformFAs])\n",
    "for project in velocityPlotScenario.platformFAs:\n",
    "    extraVel[project.name] = [None for _ in range(transitionSteps)]\n",
    "    # Fit linear curve to estimated data\n",
    "    extraVel[project.name][0], fit = fitPoly(velocity[project.name][0,:], velocity[project.name][1,:], [0,phase1Max], 1)\n",
    "    \n",
    "    transitionIntervall = (extrapolateMax - finalIntervalLen - extraVel[project.name][0][0,-1]) / transitionSteps\n",
    "    productivityFactor = fit[0]\n",
    "    for step in range(1,transitionSteps):\n",
    "        if step == transitionSteps-1:\n",
    "            transitionIntervall = finalIntervalLen\n",
    "        # Calculate linear cuve splines to extrapolated data after transition\n",
    "        productivityFactor = productivityFactor + ((fit[0] * productivity[project.name]) / transitionSteps)\n",
    "        phase3offset = extraVel[project.name][step-1][1,-1] - productivityFactor * extraVel[project.name][step-1][0,-1]\n",
    "        phase3xvals = np.arange(extraVel[project.name][step-1][0,-1], extrapolateMax if step == transitionSteps-1 else extraVel[project.name][step-1][0,-1]+transitionIntervall)\n",
    "        extraVel[project.name][step] = np.array([phase3xvals, productivityFactor * phase3xvals + phase3offset])\n",
    "        \n",
    "# Merge extrapolation curves\n",
    "extrapolatedCurves = {}\n",
    "for project in velocityPlotScenario.platformFAs:\n",
    "    concatCurves = extraVel[project.name][0]\n",
    "    for step in range(1,transitionSteps):\n",
    "        concatCurves = np.concatenate((concatCurves, extraVel[project.name][step]), axis=1)\n",
    "    extrapolatedCurves[project.name] = np.array([range(int(concatCurves[0,:].max())), np.interp(range(int(concatCurves[0,:].max())), concatCurves[0,:], concatCurves[1,:])])\n"
   ]
  },
  {
   "cell_type": "code",
   "execution_count": null,
   "metadata": {},
   "outputs": [],
   "source": [
    "#---- create figure ----\n",
    "\n",
    "fwidth = 18.  # total width of the figure in inches\n",
    "fheight = 3.5 # total height of the figure in inches\n",
    "\n",
    "fig = plt.figure(figsize=(fwidth, fheight), dpi=100)\n",
    "\n",
    "#---- define margins -> size in inches / figure dimension ----\n",
    "\n",
    "left_margin  = 1.5 / fwidth\n",
    "right_margin = 0.2 / fwidth\n",
    "bottom_margin = 0.5 / fheight\n",
    "top_margin = 0.25 / fheight\n",
    "\n",
    "#---- create axes ----\n",
    "\n",
    "# dimensions are calculated relative to the figure size\n",
    "\n",
    "x = left_margin    # horiz. position of bottom-left corner\n",
    "y = bottom_margin  # vert. position of bottom-left corner\n",
    "w = 1 - (left_margin + right_margin) # width of axes\n",
    "h = 1 - (bottom_margin + top_margin) # height of axes\n",
    "\n",
    "ax = fig.add_axes([x, y, w, h])\n",
    "\n",
    "#---- Define the Ylabel position ----\n",
    "\n",
    "# Location are defined in dimension relative to the figure size  \n",
    "\n",
    "xloc =  0.25 / fwidth \n",
    "yloc =  y + h / 2.  \n",
    "\n",
    "\n",
    "ylims = [-max(list(yOff.values())), max([projCurve[-1][1,:].max() for projCurve in extraVel.values()])]\n",
    "\n",
    "ax.set_xlim([0,extrapolateMax])\n",
    "ax.set_xlabel('Estimated Invested Effort for Feature Development (Days)', fontsize=25)\n",
    "\n",
    "ax.set_ylim(ylims)\n",
    "ax.set_yticks([])\n",
    "ax.set_ylabel('Completed\\nFeatures', rotation=0, fontsize=25, verticalalignment='center',horizontalalignment='center')\n",
    "ax.yaxis.set_label_coords(xloc, yloc, transform = fig.transFigure);\n",
    "\n",
    "ax.hlines([0], 0, extrapolateMax, color=velocityPlotScenario.colordict['Proj1'], linestyles='dashed')\n",
    "ax.text(extrapolateMax, -1, '\\\"Must-Have\\\" Platform Feature Baseline', fontsize=18, verticalalignment= \"top\", horizontalalignment=\"right\")\n",
    "\n",
    "for project in velocityPlotScenario.platformFAs:\n",
    "    ax.plot(velocity[project.name][0,:], velocity[project.name][1,:], color=velocityPlotScenario.colordict[project.name], label=project.name, linewidth=3)\n",
    "    ax.plot(extrapolatedCurves[project.name][0,:], extrapolatedCurves[project.name][1,:], color=velocityPlotScenario.colordict[project.name], linewidth=3, linestyle='dashdot')\n",
    "        \n",
    "# Find break even\n",
    "interpolatedCurves = {}\n",
    "for project in velocityPlotScenario.platformFAs:\n",
    "    interpolatedCurves[project.name] = np.interp(range(int(max([curve[0,:].max() for curve in velocity.values()]))), velocity[project.name][0,:], velocity[project.name][1,:])\n",
    "diffInterpolated = np.abs(interpolatedCurves['Proj2'] - interpolatedCurves['Proj1'])\n",
    "breakeven = np.argmin(diffInterpolated[:-10])\n",
    "ax.vlines(breakeven, ylims[0], ylims[1], color=velocityPlotScenario.colordict['Proj2'], linestyles='dashed')  \n",
    "ax.set_xticks([breakeven], [str(breakeven)], fontsize=18);\n",
    "\n",
    "ax.legend(loc='upper left', framealpha=1, fontsize=18);\n",
    "\n",
    "#incompatible: fig.tight_layout()\n",
    "fig.savefig(figureDir.joinpath('velocity.png'), dpi=300, bbox_inches = \"tight\")"
   ]
  }
 ],
 "metadata": {
  "kernelspec": {
   "display_name": "Python 3",
   "language": "python",
   "name": "python3"
  },
  "language_info": {
   "codemirror_mode": {
    "name": "ipython",
    "version": 3
   },
   "file_extension": ".py",
   "mimetype": "text/x-python",
   "name": "python",
   "nbconvert_exporter": "python",
   "pygments_lexer": "ipython3",
   "version": "3.12.3"
  },
  "orig_nbformat": 4
 },
 "nbformat": 4,
 "nbformat_minor": 2
}
